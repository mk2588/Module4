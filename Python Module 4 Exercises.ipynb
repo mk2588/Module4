{
 "cells": [
  {
   "cell_type": "markdown",
   "metadata": {},
   "source": [
    "Exercise 1: Make an empty list and call it names"
   ]
  },
  {
   "cell_type": "code",
   "execution_count": 15,
   "metadata": {},
   "outputs": [],
   "source": [
    "names = []"
   ]
  },
  {
   "cell_type": "markdown",
   "metadata": {},
   "source": [
    "Exercise 2: Make names filled with names of 5 people: Hannah, Victor, Sam, James, Sarah"
   ]
  },
  {
   "cell_type": "code",
   "execution_count": 16,
   "metadata": {},
   "outputs": [],
   "source": [
    "names.append(\"Hannah\") # can also use insert\n",
    "names.append(\"Victor\")\n",
    "names.append(\"Sam\")\n",
    "names.append(\"James\")\n",
    "names.append(\"Sarah\")"
   ]
  },
  {
   "cell_type": "code",
   "execution_count": 17,
   "metadata": {},
   "outputs": [
    {
     "name": "stdout",
     "output_type": "stream",
     "text": [
      "['Hannah', 'Victor', 'Sam', 'James', 'Sarah']\n"
     ]
    }
   ],
   "source": [
    "print(names)"
   ]
  },
  {
   "cell_type": "markdown",
   "metadata": {},
   "source": [
    "Exercise 3: Make names sort in reverse. Print out the list using a for-loop"
   ]
  },
  {
   "cell_type": "code",
   "execution_count": 16,
   "metadata": {},
   "outputs": [
    {
     "name": "stdout",
     "output_type": "stream",
     "text": [
      "Victor\n",
      "Sarah\n",
      "Sam\n",
      "James\n",
      "Hannah\n"
     ]
    }
   ],
   "source": [
    "names.sort(reverse = True)\n",
    "for item in names:\n",
    "    print(item)"
   ]
  },
  {
   "cell_type": "markdown",
   "metadata": {},
   "source": [
    "Exercise 4: Make names sorted alphabetically. Print out the list using while loop"
   ]
  },
  {
   "cell_type": "code",
   "execution_count": 18,
   "metadata": {},
   "outputs": [
    {
     "name": "stdout",
     "output_type": "stream",
     "text": [
      "1. Hannah\n",
      "2. James\n",
      "3. Sam\n",
      "4. Sarah\n",
      "5. Victor\n"
     ]
    }
   ],
   "source": [
    "names.sort()\n",
    "amt_of_names = len(names) # amount of names stored in list, built-in function (not a list method)\n",
    "i = 0 \n",
    "while i < amt_of_names: # if amount = 3, it will loop through 0,1,2\n",
    "    print(f\"{i+1}. {names[i]}\")\n",
    "    i += 1 # incremented by 1 (important to avoid infinite loop!)"
   ]
  },
  {
   "cell_type": "markdown",
   "metadata": {},
   "source": [
    "Exercise 5: Pull out the fourth item from names and print it out"
   ]
  },
  {
   "cell_type": "code",
   "execution_count": 19,
   "metadata": {},
   "outputs": [
    {
     "name": "stdout",
     "output_type": "stream",
     "text": [
      "Sarah\n"
     ]
    }
   ],
   "source": [
    "name4 = names.pop(3) # populates \"name\" w/ Sarah and removes Sarah from \"names\"\n",
    "print(name4)"
   ]
  },
  {
   "cell_type": "markdown",
   "metadata": {},
   "source": [
    "Exercise 6: Pull out the first item from names and print it out"
   ]
  },
  {
   "cell_type": "code",
   "execution_count": 20,
   "metadata": {},
   "outputs": [
    {
     "name": "stdout",
     "output_type": "stream",
     "text": [
      "Hannah\n",
      "New list is ['James', 'Sam', 'Victor']\n"
     ]
    }
   ],
   "source": [
    "name1 = names.pop(0)\n",
    "print(name1)\n",
    "print(f\"New list is {names}\")"
   ]
  },
  {
   "cell_type": "markdown",
   "metadata": {},
   "source": [
    "Exercise 7: Make a variable named fruits that contains a string \"Apples, Oranges, Bananas, Pineapples, Persimmons, Dragonfruit\" and make it into a list splitting it by the commas."
   ]
  },
  {
   "cell_type": "code",
   "execution_count": 25,
   "metadata": {},
   "outputs": [
    {
     "name": "stdout",
     "output_type": "stream",
     "text": [
      "['Apples', 'Oranges', 'Bananas', 'Pineapples', 'Persimmons', 'Dragonfruit']\n"
     ]
    }
   ],
   "source": [
    "fruits = \"Apples, Oranges, Bananas, Pineapples, Persimmons, Dragonfruit\"\n",
    "fruit_list = fruits.split(\", \")\n",
    "print(fruit_list)"
   ]
  },
  {
   "cell_type": "markdown",
   "metadata": {},
   "source": [
    "Exercise 8: Create a list of the first 10 square numbers. i.e. the square of each integer from 1 to 10. "
   ]
  },
  {
   "cell_type": "code",
   "execution_count": 27,
   "metadata": {},
   "outputs": [
    {
     "name": "stdout",
     "output_type": "stream",
     "text": [
      "Current list: [1]\n",
      "Current list: [1, 4]\n",
      "Current list: [1, 4, 9]\n",
      "Current list: [1, 4, 9, 16]\n",
      "Current list: [1, 4, 9, 16, 25]\n",
      "Current list: [1, 4, 9, 16, 25, 36]\n",
      "Current list: [1, 4, 9, 16, 25, 36, 49]\n",
      "Current list: [1, 4, 9, 16, 25, 36, 49, 64]\n",
      "Current list: [1, 4, 9, 16, 25, 36, 49, 64, 81]\n",
      "Current list: [1, 4, 9, 16, 25, 36, 49, 64, 81, 100]\n",
      "[1, 4, 9, 16, 25, 36, 49, 64, 81, 100]\n"
     ]
    }
   ],
   "source": [
    "squares = []\n",
    "for value in range(1,11):\n",
    "    square = value ** 2\n",
    "    squares.append(square)\n",
    "    print(f\"Current list: {squares}\") # visualize how the compiler is running\n",
    "print(squares)"
   ]
  },
  {
   "cell_type": "markdown",
   "metadata": {},
   "source": [
    "Exercise 9: Create a multiplication table from 1 to 10"
   ]
  },
  {
   "cell_type": "code",
   "execution_count": 28,
   "metadata": {},
   "outputs": [
    {
     "name": "stdout",
     "output_type": "stream",
     "text": [
      "1\t 2\t 3\t 4\t 5\t 6\t 7\t 8\t 9\t 10\t \n",
      "2\t 4\t 6\t 8\t 10\t 12\t 14\t 16\t 18\t 20\t \n",
      "3\t 6\t 9\t 12\t 15\t 18\t 21\t 24\t 27\t 30\t \n",
      "4\t 8\t 12\t 16\t 20\t 24\t 28\t 32\t 36\t 40\t \n",
      "5\t 10\t 15\t 20\t 25\t 30\t 35\t 40\t 45\t 50\t \n",
      "6\t 12\t 18\t 24\t 30\t 36\t 42\t 48\t 54\t 60\t \n",
      "7\t 14\t 21\t 28\t 35\t 42\t 49\t 56\t 63\t 70\t \n",
      "8\t 16\t 24\t 32\t 40\t 48\t 56\t 64\t 72\t 80\t \n",
      "9\t 18\t 27\t 36\t 45\t 54\t 63\t 72\t 81\t 90\t \n",
      "10\t 20\t 30\t 40\t 50\t 60\t 70\t 80\t 90\t 100\t \n"
     ]
    }
   ],
   "source": [
    "# nested for loop\n",
    "for i in range(1,11):\n",
    "    for j in range(1,11):\n",
    "        k = i * j\n",
    "        print(f\"{k}\\t\", end = \" \")\n",
    "    print()"
   ]
  },
  {
   "cell_type": "markdown",
   "metadata": {},
   "source": [
    "Exercise 10: Write a program that gets test scores from a user and then calculates and displays the average of the scores that have been enter. The output of the program should show the original scores and the average. "
   ]
  },
  {
   "cell_type": "code",
   "execution_count": 37,
   "metadata": {},
   "outputs": [
    {
     "name": "stdin",
     "output_type": "stream",
     "text": [
      "Please enter a test score or 'q' to quit:  100\n",
      "Please enter a test score or 'q' to quit:  90\n",
      "Please enter a test score or 'q' to quit:  80\n",
      "Please enter a test score or 'q' to quit:  q\n"
     ]
    },
    {
     "name": "stdout",
     "output_type": "stream",
     "text": [
      "Original scores: ['100', '90', '80']\n",
      "Average score: 90.0\n"
     ]
    }
   ],
   "source": [
    "scores = []\n",
    "total = 0\n",
    "amt_of_tests = 0\n",
    "\n",
    "while True:\n",
    "    score = input(\"Please enter a test score or 'q' to quit: \")\n",
    "    if score.lower() == 'q':\n",
    "        break\n",
    "    scores.append(score) # add new score to list of scores\n",
    "    total = total + float(score) # make sure the score is a float before adding it to the total\n",
    "    amt_of_tests += 1 # amt_of_tests = amt_of_tests + 1\n",
    "\n",
    "if amt_of_tests == 0:\n",
    "    print(\"Please enter at least 2 test scores.\")\n",
    "else: \n",
    "    avg = total / amt_of_tests\n",
    "\n",
    "if amt_of_tests == 0:\n",
    "    print(\"No scores entered.\")\n",
    "else:\n",
    "    print(f\"Original scores: {scores}\")\n",
    "    print(f\"Average score: {avg}\")"
   ]
  },
  {
   "cell_type": "markdown",
   "metadata": {},
   "source": [
    "Challenge:\n",
    "Write a program that maintains a list of movies, and the user can list all the movies, add a movie to the list, or delete a movie from the list.\n",
    "\n",
    "Example\n",
    "\n",
    "###### COMMAND MENU\n",
    "```\n",
    "list - list all movies\n",
    "add - add a movie\n",
    "del - delete a movie\n",
    "exit - exit program \n",
    "```\n",
    "\n",
    "###### Command: list\n",
    "``` \n",
    " 1. Toy Story\n",
    " 2. Lion King\n",
    " 3. Frozen\n",
    " ```\n",
    "\n",
    "###### Command: add\n",
    " ```\n",
    " Name: Snow White\n",
    " Snow White was added.\n",
    " ```\n",
    "\n",
    "###### Command: del\n",
    "```\n",
    " Number: 3\n",
    " Frozen was deleted.```\n",
    "\n"
   ]
  },
  {
   "cell_type": "code",
   "execution_count": 45,
   "metadata": {},
   "outputs": [
    {
     "name": "stdout",
     "output_type": "stream",
     "text": [
      "COMMAND MENU\n",
      "\n",
      "\tlist - list all movies\n",
      "\tadd - add a movie\n",
      "\tdel - delete a movie\n",
      "\texit - exit program\n",
      "\n"
     ]
    },
    {
     "name": "stdin",
     "output_type": "stream",
     "text": [
      "Command:  list\n"
     ]
    },
    {
     "name": "stdout",
     "output_type": "stream",
     "text": [
      "1. Toy Story\n",
      "2. Lion King\n",
      "3. Aladdin\n"
     ]
    },
    {
     "name": "stdin",
     "output_type": "stream",
     "text": [
      "Command:  add\n",
      "Name:  Snow White\n"
     ]
    },
    {
     "name": "stdout",
     "output_type": "stream",
     "text": [
      "Snow White was added.\n"
     ]
    },
    {
     "name": "stdin",
     "output_type": "stream",
     "text": [
      "Command:  del\n"
     ]
    },
    {
     "name": "stdout",
     "output_type": "stream",
     "text": [
      "1. Toy Story\n",
      "2. Lion King\n",
      "3. Aladdin\n",
      "4. Snow White\n",
      "Which movie would you like to delete?\n"
     ]
    },
    {
     "name": "stdin",
     "output_type": "stream",
     "text": [
      "Number:  1\n"
     ]
    },
    {
     "name": "stdout",
     "output_type": "stream",
     "text": [
      "Toy Story was deleted.\n"
     ]
    },
    {
     "name": "stdin",
     "output_type": "stream",
     "text": [
      "Command:  4\n"
     ]
    },
    {
     "name": "stdout",
     "output_type": "stream",
     "text": [
      "Invalid command.\n",
      "COMMAND MENU\n",
      "\n",
      "\tlist - list all movies\n",
      "\tadd - add a movie\n",
      "\tdel - delete a movie\n",
      "\texit - exit program\n",
      "\n"
     ]
    },
    {
     "name": "stdin",
     "output_type": "stream",
     "text": [
      "Command:  exit\n"
     ]
    }
   ],
   "source": [
    "movies = []\n",
    "def display():\n",
    "    print(\"COMMAND MENU\\n\")\n",
    "    print(\"\\tlist - list all movies\\n\\tadd - add a movie\\n\\tdel - delete a movie\\n\\texit - exit program\")\n",
    "    print()\n",
    "\n",
    "def list_movies():\n",
    "    index = 1 \n",
    "    for movie in movies:\n",
    "        print(f\"{index}. {movie}\")\n",
    "        index += 1\n",
    "\n",
    "def add_movie():\n",
    "    movie = input(\"Name: \")\n",
    "    movies.append(movie)\n",
    "    print(f\"{movie} was added.\")\n",
    "\n",
    "def delete_movie():\n",
    "    list_movies()\n",
    "    print(\"Which movie would you like to delete?\")\n",
    "    choice = int(input(\"Number: \"))\n",
    "    if choice < 1 or choice > len(movies):\n",
    "        print(\"Invalid number\")\n",
    "    else:\n",
    "        movie = movies.pop(choice - 1) # REMEMBER: python starts counting from 0\n",
    "        print(f\"{movie} was deleted.\")\n",
    "\n",
    "movies = [\"Toy Story\", \"Lion King\", \"Aladdin\"]\n",
    "display()\n",
    "\n",
    "while True:\n",
    "    command = input(\"Command: \")\n",
    "    command = command.lower()\n",
    "    if command == \"list\":\n",
    "        list_movies()\n",
    "    elif command == \"add\":\n",
    "        add_movie()\n",
    "    elif command == \"del\":\n",
    "        delete_movie()\n",
    "    elif command == \"exit\":\n",
    "        break\n",
    "    else:\n",
    "        print(\"Invalid command.\")\n",
    "        display()"
   ]
  },
  {
   "cell_type": "code",
   "execution_count": null,
   "metadata": {},
   "outputs": [],
   "source": []
  }
 ],
 "metadata": {
  "kernelspec": {
   "display_name": "Python 3",
   "language": "python",
   "name": "python3"
  },
  "language_info": {
   "codemirror_mode": {
    "name": "ipython",
    "version": 3
   },
   "file_extension": ".py",
   "mimetype": "text/x-python",
   "name": "python",
   "nbconvert_exporter": "python",
   "pygments_lexer": "ipython3",
   "version": "3.8.8"
  }
 },
 "nbformat": 4,
 "nbformat_minor": 4
}
